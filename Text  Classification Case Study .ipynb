{
 "cells": [
  {
   "cell_type": "markdown",
   "id": "5e89f3e6",
   "metadata": {},
   "source": [
    "Epinions.com is a website where people can post reviews of products and services. It covers a wide variety of topics. For this case study, we downloaded a set of 600 posts about digital cameras and cars and saved as “Eopinions.csv”. \n",
    "The dataset has 2 columns: ‘class’ and ‘text’ \n",
    "\n",
    "These are the tasks which you have to perform:\n",
    "•\tRead the file as a pandas data-frame.\n",
    "\n",
    "•\tPerform Label Encoding on ‘class’ column.\n",
    "\n",
    "•\tPlot a bar graph to compare the frequencies of both the classes.\n",
    "\n",
    "•\tPreprocess the ‘text’ column\n",
    "\n",
    "•\tVectorize the text using CountVectorizer\n",
    "\n",
    "•\tSplit the dataset into 2 parts namely “train.csv” and “test.csv” having 80% and 20% of the data respectively from the original data. These are your Train and Test Data. Make sure train and test data are having same proportion of data points as the original data\n",
    "\n",
    "•\tTrain your machine learning algorithm for classification and prepare a model (you can choose any appropriate algorithm of your choice)\n",
    "\n",
    "•\tNow test the model on the Test data and evaluate the Performance by providing Confusion Matrix for your model. \n",
    "\n",
    "•\tPlot ROC Curve.\n"
   ]
  },
  {
   "cell_type": "code",
   "execution_count": null,
   "id": "4b5dbb10",
   "metadata": {},
   "outputs": [],
   "source": []
  },
  {
   "cell_type": "code",
   "execution_count": null,
   "id": "f233e4d3",
   "metadata": {},
   "outputs": [],
   "source": [
    "import pandas as  pd\n",
    "from sklearn.model_selection import cross_validate\n",
    "from sklearn import model_selection \n",
    "from sklearn.model_selection import train_test_split \n",
    "from sklearn import preprocessing \n",
    "! pip install PreProcess \n",
    "import nltk \n",
    "from nltk import word_tokenize \n",
    "from sklearn import preprocessing"
   ]
  },
  {
   "cell_type": "code",
   "execution_count": 3,
   "id": "cfdf196e",
   "metadata": {},
   "outputs": [],
   "source": [
    "df = pd.read_csv('Eopinions.csv')"
   ]
  },
  {
   "cell_type": "code",
   "execution_count": 4,
   "id": "73aa8ee2",
   "metadata": {},
   "outputs": [
    {
     "data": {
      "text/html": [
       "<div>\n",
       "<style scoped>\n",
       "    .dataframe tbody tr th:only-of-type {\n",
       "        vertical-align: middle;\n",
       "    }\n",
       "\n",
       "    .dataframe tbody tr th {\n",
       "        vertical-align: top;\n",
       "    }\n",
       "\n",
       "    .dataframe thead th {\n",
       "        text-align: right;\n",
       "    }\n",
       "</style>\n",
       "<table border=\"1\" class=\"dataframe\">\n",
       "  <thead>\n",
       "    <tr style=\"text-align: right;\">\n",
       "      <th></th>\n",
       "      <th>class</th>\n",
       "      <th>text</th>\n",
       "    </tr>\n",
       "  </thead>\n",
       "  <tbody>\n",
       "    <tr>\n",
       "      <th>0</th>\n",
       "      <td>Auto</td>\n",
       "      <td>I have recently purchased a J30T with moderat...</td>\n",
       "    </tr>\n",
       "    <tr>\n",
       "      <th>1</th>\n",
       "      <td>Camera</td>\n",
       "      <td>I bought this product because I need instant ...</td>\n",
       "    </tr>\n",
       "    <tr>\n",
       "      <th>2</th>\n",
       "      <td>Auto</td>\n",
       "      <td>I have owned my Buick since 53000 km and I am...</td>\n",
       "    </tr>\n",
       "    <tr>\n",
       "      <th>3</th>\n",
       "      <td>Camera</td>\n",
       "      <td>This was my first Digital camera so I did qui...</td>\n",
       "    </tr>\n",
       "    <tr>\n",
       "      <th>4</th>\n",
       "      <td>Camera</td>\n",
       "      <td>Minolta DiMAGE 7Hi is in a digital SLR with 5...</td>\n",
       "    </tr>\n",
       "  </tbody>\n",
       "</table>\n",
       "</div>"
      ],
      "text/plain": [
       "    class                                               text\n",
       "0    Auto   I have recently purchased a J30T with moderat...\n",
       "1  Camera   I bought this product because I need instant ...\n",
       "2    Auto   I have owned my Buick since 53000 km and I am...\n",
       "3  Camera   This was my first Digital camera so I did qui...\n",
       "4  Camera   Minolta DiMAGE 7Hi is in a digital SLR with 5..."
      ]
     },
     "execution_count": 4,
     "metadata": {},
     "output_type": "execute_result"
    }
   ],
   "source": [
    "df.head()"
   ]
  },
  {
   "cell_type": "code",
   "execution_count": 6,
   "id": "3a9db8f4",
   "metadata": {},
   "outputs": [],
   "source": [
    "# Perform label encoding on class colulmn \n",
    "from sklearn import preprocessing \n",
    "le = preprocessing.LabelEncoder()\n",
    "df['Label']=le.fit_transform(df['class'])\n"
   ]
  },
  {
   "cell_type": "code",
   "execution_count": 8,
   "id": "2c87d7c6",
   "metadata": {},
   "outputs": [
    {
     "data": {
      "image/png": "[encoded data removed]",
      "text/plain": [
       "<Figure size 640x480 with 1 Axes>"
      ]
     },
     "metadata": {},
     "output_type": "display_data"
    }
   ],
   "source": [
    "# Plot the bar graph to compare the frequencies of the both classes \n",
    "import matplotlib.pyplot as plt \n",
    "bars = []\n",
    "count = []\n",
    "for group,subset in df.groupby('class'):\n",
    "    bars.append(group)\n",
    "    count.append(len(subset))\n",
    "    \n",
    "plt.bar(range(len(bars)),count,color=['blue','green'],align='center')\n",
    "plt.xticks(range(len(bars)),bars)\n",
    "plt.show()"
   ]
  },
  {
   "cell_type": "code",
   "execution_count": 31,
   "id": "b83a2fe4",
   "metadata": {},
   "outputs": [],
   "source": [
    "#Preprocess the text column \n",
    "from Preprocess import * \n",
    "df['Refined-Text']=df['text'].apply(Refine)"
   ]
  },
  {
   "cell_type": "code",
   "execution_count": 32,
   "id": "56706408",
   "metadata": {},
   "outputs": [],
   "source": [
    "#Vectorize the text using CountVectorizer\n",
    "\n",
    "#use previous Vectorization file made in earlier module\n",
    "from Vectorization import *\n",
    "df['Refined-Text-Vectorized']=CountVectorization(df['Refined-Text'])\n"
   ]
  },
  {
   "cell_type": "code",
   "execution_count": 38,
   "id": "af6a51ed",
   "metadata": {},
   "outputs": [],
   "source": [
    "#Split the dataset into 2 parts namely \"train.csv\" and \"test_csv\" having 80% and 20% of the data \n",
    "Data=df[['text','Refined-Text','Refined-Text-Vectorized']]\n",
    "Target=df['Label']\n",
    "X_train,X_test,y_train,y_test = train_test_split(Data,Target,test_size=0.2,random_state=0,stratify=Target)\n",
    "\n",
    "#Training set \n",
    "train = pd.DataFrame(X_train)\n",
    "train['Label']=y_train\n",
    "train.index=range(len(train))\n",
    "train.to_csv('Train.csv',index=False)\n",
    "\n",
    "#Test Data \n",
    "test = pd.DataFrame(X_test)\n",
    "test['Label']=y_test\n",
    "test.index=range(len(test))\n",
    "test.to_csv('Test.csv',index=False)\n",
    "\n"
   ]
  },
  {
   "cell_type": "code",
   "execution_count": 39,
   "id": "4d4d2ba3",
   "metadata": {},
   "outputs": [],
   "source": [
    "#Train your machine learning algorithm for classification and prepare a model"
   ]
  },
  {
   "cell_type": "code",
   "execution_count": 42,
   "id": "da18d3c4",
   "metadata": {},
   "outputs": [
    {
     "data": {
      "text/html": [
       "<style>#sk-container-id-2 {color: black;background-color: white;}#sk-container-id-2 pre{padding: 0;}#sk-container-id-2 div.sk-toggleable {background-color: white;}#sk-container-id-2 label.sk-toggleable__label {cursor: pointer;display: block;width: 100%;margin-bottom: 0;padding: 0.3em;box-sizing: border-box;text-align: center;}#sk-container-id-2 label.sk-toggleable__label-arrow:before {content: \"▸\";float: left;margin-right: 0.25em;color: #696969;}#sk-container-id-2 label.sk-toggleable__label-arrow:hover:before {color: black;}#sk-container-id-2 div.sk-estimator:hover label.sk-toggleable__label-arrow:before {color: black;}#sk-container-id-2 div.sk-toggleable__content {max-height: 0;max-width: 0;overflow: hidden;text-align: left;background-color: #f0f8ff;}#sk-container-id-2 div.sk-toggleable__content pre {margin: 0.2em;color: black;border-radius: 0.25em;background-color: #f0f8ff;}#sk-container-id-2 input.sk-toggleable__control:checked~div.sk-toggleable__content {max-height: 200px;max-width: 100%;overflow: auto;}#sk-container-id-2 input.sk-toggleable__control:checked~label.sk-toggleable__label-arrow:before {content: \"▾\";}#sk-container-id-2 div.sk-estimator input.sk-toggleable__control:checked~label.sk-toggleable__label {background-color: #d4ebff;}#sk-container-id-2 div.sk-label input.sk-toggleable__control:checked~label.sk-toggleable__label {background-color: #d4ebff;}#sk-container-id-2 input.sk-hidden--visually {border: 0;clip: rect(1px 1px 1px 1px);clip: rect(1px, 1px, 1px, 1px);height: 1px;margin: -1px;overflow: hidden;padding: 0;position: absolute;width: 1px;}#sk-container-id-2 div.sk-estimator {font-family: monospace;background-color: #f0f8ff;border: 1px dotted black;border-radius: 0.25em;box-sizing: border-box;margin-bottom: 0.5em;}#sk-container-id-2 div.sk-estimator:hover {background-color: #d4ebff;}#sk-container-id-2 div.sk-parallel-item::after {content: \"\";width: 100%;border-bottom: 1px solid gray;flex-grow: 1;}#sk-container-id-2 div.sk-label:hover label.sk-toggleable__label {background-color: #d4ebff;}#sk-container-id-2 div.sk-serial::before {content: \"\";position: absolute;border-left: 1px solid gray;box-sizing: border-box;top: 0;bottom: 0;left: 50%;z-index: 0;}#sk-container-id-2 div.sk-serial {display: flex;flex-direction: column;align-items: center;background-color: white;padding-right: 0.2em;padding-left: 0.2em;position: relative;}#sk-container-id-2 div.sk-item {position: relative;z-index: 1;}#sk-container-id-2 div.sk-parallel {display: flex;align-items: stretch;justify-content: center;background-color: white;position: relative;}#sk-container-id-2 div.sk-item::before, #sk-container-id-2 div.sk-parallel-item::before {content: \"\";position: absolute;border-left: 1px solid gray;box-sizing: border-box;top: 0;bottom: 0;left: 50%;z-index: -1;}#sk-container-id-2 div.sk-parallel-item {display: flex;flex-direction: column;z-index: 1;position: relative;background-color: white;}#sk-container-id-2 div.sk-parallel-item:first-child::after {align-self: flex-end;width: 50%;}#sk-container-id-2 div.sk-parallel-item:last-child::after {align-self: flex-start;width: 50%;}#sk-container-id-2 div.sk-parallel-item:only-child::after {width: 0;}#sk-container-id-2 div.sk-dashed-wrapped {border: 1px dashed gray;margin: 0 0.4em 0.5em 0.4em;box-sizing: border-box;padding-bottom: 0.4em;background-color: white;}#sk-container-id-2 div.sk-label label {font-family: monospace;font-weight: bold;display: inline-block;line-height: 1.2em;}#sk-container-id-2 div.sk-label-container {text-align: center;}#sk-container-id-2 div.sk-container {/* jupyter's `normalize.less` sets `[hidden] { display: none; }` but bootstrap.min.css set `[hidden] { display: none !important; }` so we also need the `!important` here to be able to override the default hidden behavior on the sphinx rendered scikit-learn.org. See: https://github.com/scikit-learn/scikit-learn/issues/21755 */display: inline-block !important;position: relative;}#sk-container-id-2 div.sk-text-repr-fallback {display: none;}</style><div id=\"sk-container-id-2\" class=\"sk-top-container\"><div class=\"sk-text-repr-fallback\"><pre>RandomForestClassifier(max_depth=20, random_state=0)</pre><b>In a Jupyter environment, please rerun this cell to show the HTML representation or trust the notebook. <br />On GitHub, the HTML representation is unable to render, please try loading this page with nbviewer.org.</b></div><div class=\"sk-container\" hidden><div class=\"sk-item\"><div class=\"sk-estimator sk-toggleable\"><input class=\"sk-toggleable__control sk-hidden--visually\" id=\"sk-estimator-id-2\" type=\"checkbox\" checked><label for=\"sk-estimator-id-2\" class=\"sk-toggleable__label sk-toggleable__label-arrow\">RandomForestClassifier</label><div class=\"sk-toggleable__content\"><pre>RandomForestClassifier(max_depth=20, random_state=0)</pre></div></div></div></div></div>"
      ],
      "text/plain": [
       "RandomForestClassifier(max_depth=20, random_state=0)"
      ]
     },
     "execution_count": 42,
     "metadata": {},
     "output_type": "execute_result"
    }
   ],
   "source": [
    "x_train=list(train['Refined-Text-Vectorized'])\n",
    "y_train=list(train['Label'])\n",
    "\n",
    "x_test=list(test['Refined-Text-Vectorized'])\n",
    "y_test=list(test['Label'])\n",
    "\n",
    "from sklearn.ensemble import RandomForestClassifier\n",
    "clf = RandomForestClassifier(max_depth=20, random_state=0)\n",
    "clf.fit(x_train, y_train)"
   ]
  },
  {
   "cell_type": "code",
   "execution_count": 44,
   "id": "7b859eae",
   "metadata": {},
   "outputs": [
    {
     "name": "stdout",
     "output_type": "stream",
     "text": [
      "Confusion Matrix:\n",
      " [[50  0]\n",
      " [ 0 70]]\n"
     ]
    }
   ],
   "source": [
    "# Now test the model on the Test data and evaluate the Performance by providing confusion Matrix for your model \n",
    "y_pred=clf.predict(x_test)\n",
    "from sklearn.metrics import confusion_matrix\n",
    "print(\"Confusion Matrix:\\n\",confusion_matrix(y_test,y_pred))\n"
   ]
  },
  {
   "cell_type": "code",
   "execution_count": 46,
   "id": "3f4d7c19",
   "metadata": {},
   "outputs": [
    {
     "name": "stdout",
     "output_type": "stream",
     "text": [
      "\n",
      "ROC Curve:\n",
      "\n"
     ]
    },
    {
     "data": {
      "image/png": "[encoded data removed]",
      "text/plain": [
       "<Figure size 640x480 with 1 Axes>"
      ]
     },
     "metadata": {},
     "output_type": "display_data"
    }
   ],
   "source": [
    "#Plot ROC Curve \n",
    "from sklearn import metrics \n",
    "print(\"\\nROC Curve:\\n\")\n",
    "fpr,tpr,threshold = metrics.roc_curve(y_test,y_pred)\n",
    "roc_auc = metrics.auc(fpr,tpr)\n",
    "plt.title('Receiver Operating Characteristic')\n",
    "plt.plot(fpr,tpr,'b',label='AUC=%0.2f'%roc_auc)\n",
    "plt.legend(loc='lower right')\n",
    "plt.plot([0,1],[0,1],'r--')\n",
    "plt.xlim([0,1])\n",
    "plt.ylim([0,1])\n",
    "plt.ylabel('True Positive Rate')\n",
    "plt.xlabel('False Positive Rate')\n",
    "plt.show()"
   ]
  },
  {
   "cell_type": "code",
   "execution_count": null,
   "id": "5177dd18",
   "metadata": {},
   "outputs": [],
   "source": []
  },
  {
   "cell_type": "code",
   "execution_count": null,
   "id": "2918f4a7",
   "metadata": {},
   "outputs": [],
   "source": []
  },
  {
   "cell_type": "code",
   "execution_count": null,
   "id": "7b784ed5",
   "metadata": {},
   "outputs": [],
   "source": []
  },
  {
   "cell_type": "code",
   "execution_count": null,
   "id": "4275b6ba",
   "metadata": {},
   "outputs": [],
   "source": []
  },
  {
   "cell_type": "code",
   "execution_count": null,
   "id": "81703619",
   "metadata": {},
   "outputs": [],
   "source": []
  }
 ],
 "metadata": {
  "kernelspec": {
   "display_name": "Python 3 (ipykernel)",
   "language": "python",
   "name": "python3"
  },
  "language_info": {
   "codemirror_mode": {
    "name": "ipython",
    "version": 3
   },
   "file_extension": ".py",
   "mimetype": "text/x-python",
   "name": "python",
   "nbconvert_exporter": "python",
   "pygments_lexer": "ipython3",
   "version": "3.9.16"
  }
 },
 "nbformat": 4,
 "nbformat_minor": 5
}
